{
 "cells": [
  {
   "cell_type": "code",
   "execution_count": 1,
   "id": "635f0fd3-b088-450f-beb7-8ba5f03be653",
   "metadata": {},
   "outputs": [],
   "source": [
    "#BAR CHART\n",
    "\n",
    "\n",
    "\n"
   ]
  },
  {
   "cell_type": "code",
   "execution_count": 2,
   "id": "fec812b7-3479-4171-bbbc-7fa75e237aa7",
   "metadata": {},
   "outputs": [],
   "source": [
    "import matplotlib.pyplot as plt\n",
    "%matplotlib inline"
   ]
  },
  {
   "cell_type": "code",
   "execution_count": 4,
   "id": "beaf40f2-2f94-42cb-865b-7c0eef4bc79b",
   "metadata": {},
   "outputs": [],
   "source": [
    "company = ['GOOGL', 'AMZN', 'MSFT', 'FB']\n",
    "revenue = [90, 136, 89, 27]\n",
    "profit  = [40, 2, 34, 12]"
   ]
  },
  {
   "cell_type": "code",
   "execution_count": 7,
   "id": "77d9e9ce-21df-4a74-b6b8-c69c7fe13ee4",
   "metadata": {},
   "outputs": [
    {
     "data": {
      "text/plain": [
       "array([0, 1, 2, 3])"
      ]
     },
     "execution_count": 7,
     "metadata": {},
     "output_type": "execute_result"
    }
   ],
   "source": [
    "import numpy as np\n",
    "xpos=np.arange(len(company))\n",
    "xpos"
   ]
  },
  {
   "cell_type": "code",
   "execution_count": 8,
   "id": "b3e7ab49-30be-4199-b3c4-0fe527c1e146",
   "metadata": {},
   "outputs": [
    {
     "data": {
      "text/plain": [
       "<matplotlib.legend.Legend at 0x19019b28520>"
      ]
     },
     "execution_count": 8,
     "metadata": {},
     "output_type": "execute_result"
    },
    {
     "data": {
      "image/png": "[encoded data removed]",
      "text/plain": [
       "<Figure size 432x288 with 1 Axes>"
      ]
     },
     "metadata": {
      "needs_background": "light"
     },
     "output_type": "display_data"
    }
   ],
   "source": [
    "#VERTICAL BAR CHART\n",
    "\n",
    "plt.xticks(xpos,company)\n",
    "plt.ylabel('revenue(bln)')\n",
    "plt.title('US Tech Stocks')\n",
    "plt.bar(xpos-0.2,revenue,label='Revenue',width = 0.4)\n",
    "plt.bar(xpos+0.2,profit,label='Profit',width=0.4)\n",
    "plt.legend(loc='best')\n"
   ]
  },
  {
   "cell_type": "code",
   "execution_count": 9,
   "id": "a9e947d3-9399-40b7-9fae-77d8edf44f43",
   "metadata": {},
   "outputs": [
    {
     "data": {
      "text/plain": [
       "array([0, 1, 2, 3])"
      ]
     },
     "execution_count": 9,
     "metadata": {},
     "output_type": "execute_result"
    }
   ],
   "source": [
    "#HORIZONTAL BAR CHART\n",
    "ypos=np.arange(len(company))\n",
    "ypos"
   ]
  },
  {
   "cell_type": "code",
   "execution_count": 12,
   "id": "8a18ad26-987f-4202-ba75-fc4d16a6e45d",
   "metadata": {},
   "outputs": [
    {
     "data": {
      "text/plain": [
       "<matplotlib.legend.Legend at 0x1901bd10280>"
      ]
     },
     "execution_count": 12,
     "metadata": {},
     "output_type": "execute_result"
    },
    {
     "data": {
      "image/png": "[encoded data removed]",
      "text/plain": [
       "<Figure size 432x288 with 1 Axes>"
      ]
     },
     "metadata": {
      "needs_background": "light"
     },
     "output_type": "display_data"
    }
   ],
   "source": [
    "plt.yticks(ypos,company)\n",
    "plt.xlabel('revenue(bln)')\n",
    "plt.title('US Tech Stocks')\n",
    "plt.barh(ypos-0.2,revenue,label='Revenue')\n",
    "plt.barh(ypos+0.2,profit,label='Profit')\n",
    "plt.legend(loc='best')"
   ]
  },
  {
   "cell_type": "code",
   "execution_count": null,
   "id": "2a0aeddc-6a6f-4748-b640-84a852df7ce6",
   "metadata": {},
   "outputs": [],
   "source": []
  }
 ],
 "metadata": {
  "kernelspec": {
   "display_name": "Python 3 (ipykernel)",
   "language": "python",
   "name": "python3"
  },
  "language_info": {
   "codemirror_mode": {
    "name": "ipython",
    "version": 3
   },
   "file_extension": ".py",
   "mimetype": "text/x-python",
   "name": "python",
   "nbconvert_exporter": "python",
   "pygments_lexer": "ipython3",
   "version": "3.10.11"
  }
 },
 "nbformat": 4,
 "nbformat_minor": 5
}
